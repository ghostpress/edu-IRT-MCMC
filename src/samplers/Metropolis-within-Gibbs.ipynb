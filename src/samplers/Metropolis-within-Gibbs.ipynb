{
 "cells": [
  {
   "cell_type": "markdown",
   "id": "107868e5-f8e8-4661-abc1-1b74e8b39f31",
   "metadata": {
    "jp-MarkdownHeadingCollapsed": true
   },
   "source": [
    "## Theory"
   ]
  },
  {
   "cell_type": "markdown",
   "id": "13651abe",
   "metadata": {},
   "source": [
    "Suppose that a group of $P$ students is given a test with $I$ multiple choice questions. Let $Y_{pi}=1$ mean that student $p \\in \\{1, ..., P\\}$ has the correct answer on item $i \\in \\{1, ..., I\\}$. Assuming that all responses are conditionally independent given the parameters $a, b, \\theta$, we model the outcomes with:\n",
    "\n",
    "$$Y_{pi} | a,b,\\theta \\sim Ber(\\frac{e^{a_i\\theta_p - b_i}}{1 + e^{a_i\\theta_p - b_i}})$$\n",
    "\n",
    "where $\\theta_p$ measures the student's learning ability, $a_i$ measures the items discriminatory power, and $b_i$ measures the item's difficulty. Take the following prior assumptions on the distribution of parameters $\\theta, a, b$, where all the priors are assumed independent: $a_i \\sim \\mathcal{N}(0, \\sigma_a^2), b_i \\sim \\mathcal{N}(0, \\sigma_b^2), \\theta_p \\sim \\mathcal{N}(0,1)$. Then the posterior distribution of $(a, b, \\theta)$ is given by\n",
    "\n",
    "$$\\pi(a,b,\\theta | y) = exp\\bigr\\{ -\\frac{1}{2\\sigmasq_a^2}||a||^2 - \\frac{1}{2\\sigmasq_b^2}||b||^2 - \\frac{1}{2}||\\theta||^2 + \\sum_{p,i} y_{pi}(a_i\\theta_p - b_i) - log(1 + e^{a_i\\theta_p - b_i}) \\bigl\\}$$\n",
    "\n",
    "and the full conditionals (the conditional distribution of one variable given all others) are given by\n",
    "\n",
    "$$\\pi(a_i | b,\\theta,y) = exp\\bigl\\{ -\\frac{a_i^2}{2\\sigma_a^2} + \\sum_{p=1}^P a_i y_{pi} \\theta_p - log(1+e^{a_i\\theta_p - b_i}) \\bigr\\}$$\n",
    "\n",
    "\n",
    "$$\\pi(b_i | a, \\theta, y) = exp\\bigl\\{ -\\frac{b_i^2}{2\\sigma_b^2} + \\sum_{p=1}^P y_{pi}b_i - log(1+e^{a_i\\theta_p - b_i}) \\bigr \\}$$\n",
    "\n",
    "$$\\pi(\\theta_p | a, b, y) = exp\\bigl\\{ -\\frac{\\theta_p^2}{2} + \\sum_{i=1}^I a_iy_{pi}\\theta_p - log(1+e^{a_i\\theta_p - b_i}) \\bigr\\}$$\n",
    "\n",
    "Since these full conditionals are not easy to sample from, below is an implementation of the Metropolis-within-Gibbs sampler to make sampling easier."
   ]
  },
  {
   "cell_type": "markdown",
   "id": "66298163",
   "metadata": {},
   "source": [
    "## Implementation: classical Metropolis-within-Gibbs"
   ]
  },
  {
   "cell_type": "code",
   "execution_count": 1,
   "id": "61cfcb7d",
   "metadata": {
    "scrolled": true
   },
   "outputs": [],
   "source": [
    "import torch\n",
    "import matplotlib.pyplot as plt\n",
    "from tqdm import trange"
   ]
  },
  {
   "cell_type": "code",
   "execution_count": 2,
   "id": "0863c418",
   "metadata": {},
   "outputs": [],
   "source": [
    "def loga_conditional(a, b, theta, y, sigmasq):\n",
    "    \"\"\"Function to compute the (log) full conditional probability of an observed value of \n",
    "    variable a at a given index i. To get the actual conditional probability, raise\n",
    "    Euler's constant to the power of the returned value.\n",
    "    \n",
    "    Parameters\n",
    "    ----------\n",
    "    a : torch.tensor\n",
    "        The observed value of a at index i\n",
    "    b : torch.tensor\n",
    "        The observed value of b at index i\n",
    "    theta : torch.tensor\n",
    "        A vector of observed theta values\n",
    "    y : torch.tensor\n",
    "        The ith column vector of the data Y\n",
    "    sigmasq : float\n",
    "        The variance of variable a\n",
    "        \n",
    "    Returns\n",
    "    -------\n",
    "    prob : torch.tensor\n",
    "        The (log) conditional probability\n",
    "    \"\"\"\n",
    "    \n",
    "    assert theta.shape[0] == y.shape[0]\n",
    "    \n",
    "    logsum = 0\n",
    "    for p in range(y.shape[0]):\n",
    "        logsum += a * y[p] * theta[p] - torch.log(1 + torch.exp(a*theta[p]-b))\n",
    "    \n",
    "    prob = logsum - (torch.pow(a, 2)/(2*sigmasq))\n",
    "    return prob\n",
    "\n",
    "def logb_conditional(b, a, theta, y, sigmasq):\n",
    "    \"\"\"Function to compute the (log) full conditional probability of an observed value of \n",
    "    variable b at a given index i. To get the actual conditional probability, raise\n",
    "    Euler's constant to the power of the returned value.\n",
    "    \n",
    "    Parameters\n",
    "    ----------\n",
    "    a : torch.tensor\n",
    "        The observed value of a at index i\n",
    "    b : torch.tensor\n",
    "        The observed value of b at index i\n",
    "    theta : torch.tensor\n",
    "        A vector of observed theta values\n",
    "    y : torch.tensor\n",
    "        The ith column vector of the data Y\n",
    "    sigmasq : float\n",
    "        The variance of variable a\n",
    "        \n",
    "    Returns\n",
    "    -------\n",
    "    prob : torch.tensor\n",
    "        The (log) conditional probability\n",
    "    \"\"\"\n",
    "    \n",
    "    assert theta.shape[0] == y.shape[0]\n",
    "    \n",
    "    logsum = 0\n",
    "    for p in range(y.shape[0]):\n",
    "        logsum += b * y[p] - torch.log(1 + torch.exp(a*theta[p]-b))\n",
    "    \n",
    "    prob = logsum - (torch.pow(b, 2)/(2*sigmasq))\n",
    "    return prob\n",
    "\n",
    "def logtheta_conditional(theta, a, b, y, sigmasq):\n",
    "    \"\"\"Function to compute the (log) full conditional probability of an observed value of \n",
    "    variable theta at a given index p. To get the actual conditional probability, raise\n",
    "    Euler's constant to the power of the returned value.\n",
    "    \n",
    "    Parameters\n",
    "    ----------\n",
    "    a : torch.tensor\n",
    "        A vector of observed a values\n",
    "    b : torch.tensor\n",
    "        A vector of observed b values\n",
    "    theta : torch.tensor\n",
    "        The observed value of theta at index p\n",
    "    y : torch.tensor\n",
    "        The pth row vector of the data Y\n",
    "    sigmasq : float\n",
    "        The variance of variable theta\n",
    "        \n",
    "    Returns\n",
    "    -------\n",
    "    prob : torch.tensor\n",
    "        The (log) conditional probability\n",
    "    \"\"\"\n",
    "\n",
    "    assert a.shape == b.shape\n",
    "    \n",
    "    logsum = 0\n",
    "    for i in range(a.shape[0]):\n",
    "        logsum += a[i] * y[i] * theta - torch.log(1 + torch.exp(a[i]*theta - b[i]))\n",
    "    \n",
    "    prob = logsum - (torch.pow(theta, 2)/2*sigmasq)\n",
    "    return prob"
   ]
  },
  {
   "cell_type": "code",
   "execution_count": 3,
   "id": "815c11b1",
   "metadata": {},
   "outputs": [],
   "source": [
    "def metropolis(prev_sample, sigmasq, full_cond, *full_cond_args):\n",
    "    \"\"\"Function to perform random-walk metropolis sampling of a full conditional distribution. \n",
    "\n",
    "    Parameters\n",
    "    ----------\n",
    "    prev_sample : torch.Tensor\n",
    "        Previous sampled state, to update or not\n",
    "    sigmasq : float\n",
    "        The variance of the random walk\n",
    "    full_cond : function\n",
    "        The full conditional distribution from which to sample\n",
    "    *full_cond_args : tuple\n",
    "        Additional arguments needed for the full conditional distribution, if any\n",
    "\n",
    "    Returns\n",
    "    -------\n",
    "    update : torch.Tensor\n",
    "        The next state of the random walk\n",
    "    \"\"\"\n",
    "    \n",
    "    prop = prev_sample + (torch.distributions.Normal(torch.tensor([0.0]), sigmasq)).sample()\n",
    "    \n",
    "    # Ensure that values are within range [0,1]\n",
    "    #if (prop > 1) or (prop < 0):\n",
    "    #    A = 0\n",
    "    #else:\n",
    "    #    logr = full_cond(prop, *full_cond_args) - full_cond(prev_sample, *full_cond_args)    \n",
    "    #    A = torch.min(torch.tensor([1.0]), torch.exp(logr)) \n",
    "    logr = full_cond(prop, *full_cond_args) - full_cond(prev_sample, *full_cond_args)    \n",
    "    A = torch.min(torch.tensor([1.0]), torch.exp(logr)) \n",
    "        \n",
    "    U = (torch.distributions.Uniform(torch.tensor([0.0]), torch.tensor([1.0]))).sample()\n",
    "\n",
    "    update = None\n",
    "    \n",
    "    if U <= A:\n",
    "        update = prop\n",
    "    else:\n",
    "        update = prev_sample\n",
    "    \n",
    "    return update"
   ]
  },
  {
   "cell_type": "code",
   "execution_count": 4,
   "id": "dfc1d2da",
   "metadata": {},
   "outputs": [],
   "source": [
    "def gibbs(init_a, init_b, init_theta, y, sigmasq_a, sigmasq_b, sigmasq_t, niter=10000):\n",
    "    \"\"\"Function to perform Gibbs sampling, using Metropolis-within-Gibbs for the intractable full conditional distributions.\n",
    "\n",
    "    Parameters\n",
    "    ----------\n",
    "    init_a : torch.Tensor\n",
    "        The initial state of variable a\n",
    "    init_b : torch.Tensor\n",
    "        The initial state of variable b\n",
    "    init_theta : torch.Tensor\n",
    "        The initial state of variable theta\n",
    "    y : torch.Tensor\n",
    "        The data\n",
    "    sigmasq_a : torch.Tensor\n",
    "        The prior for the variance of variable a\n",
    "    sigmasq_b : torch.Tensor\n",
    "        The prior for the variance of variable b\n",
    "    sigmasq_t : torch.Tensor\n",
    "        The prior for the variance of variable theta\n",
    "    niter : int\n",
    "        The number of samples to collect\n",
    "\n",
    "    Returns\n",
    "    -------\n",
    "    A : torch.Tensor\n",
    "        The samples for each element of variable a\n",
    "    B : torch.Tensor\n",
    "        The samples for each element of variable b\n",
    "    THETA : torch.Tensor\n",
    "        The samples for each element of variable theta\n",
    "    \"\"\"\n",
    "    \n",
    "    assert init_a.shape == init_b.shape\n",
    "    assert init_theta.shape[0] == y.shape[0]\n",
    "    \n",
    "    I = len(init_a)\n",
    "    P = len(init_theta)\n",
    "    \n",
    "    # samples\n",
    "    A = torch.empty(size=(niter, I))\n",
    "    B = torch.empty(size=(niter, I))\n",
    "    THETA = torch.empty(size=(niter, P))\n",
    "    \n",
    "    A[0] = init_a\n",
    "    B[0] = init_b\n",
    "    THETA[0] = init_theta\n",
    "    \n",
    "    print(f\"Starting Gibbs sampler... \\n--------------------------------------------\\n\")\n",
    "    # TODO: check s in trange -> should start from 1, not 0\n",
    "    for s in trange(1, niter):\n",
    "        \n",
    "        for i in range(I):\n",
    "            A[s][i] = metropolis(A[s-1][i], sigmasq_a, loga_conditional, B[s-1][i], THETA[s-1], y[:,i], sigmasq_a)\n",
    "            B[s][i] = metropolis(B[s-1][i], sigmasq_b, logb_conditional, A[s][i], THETA[s-1], y[:,i], sigmasq_b)\n",
    "            \n",
    "        for p in range(P):\n",
    "            THETA[s][p] = metropolis(THETA[s-1][p], sigmasq_t, logtheta_conditional, A[s], B[s], y[p,:], sigmasq_t)\n",
    "    \n",
    "    print(\"Done sampling.\")\n",
    "    return A, B, THETA"
   ]
  },
  {
   "cell_type": "markdown",
   "id": "6548ca3c-7cb5-4f0a-8e0e-4a88ec3c3423",
   "metadata": {
    "jp-MarkdownHeadingCollapsed": true
   },
   "source": [
    "### (Placeholder: w/o modular structure)"
   ]
  },
  {
   "cell_type": "code",
   "execution_count": 9,
   "id": "18fd918c",
   "metadata": {},
   "outputs": [],
   "source": [
    "def redo(a, b, theta, Y, sigmasq_a, sigmasq_b, sigmasq_t, niter=10000):\n",
    "    \n",
    "    P = Y.shape[0]\n",
    "    I = Y.shape[1]\n",
    "    \n",
    "    for s in trange(niter):\n",
    "        for i in range(I):\n",
    "            a_prop = a[i] + (torch.distributions.Normal(torch.tensor([0.0]), sigmasq_a)).sample()\n",
    "            \n",
    "            # Bad values\n",
    "            if a_prop < 0 or a_prop > 1:\n",
    "                continue\n",
    "\n",
    "            ratio = (-0.5 / sigmasq_a) * (a_prop**2) + torch.sum(a_prop*torch.mul(Y[:,i], theta) - torch.log(1+torch.exp(a_prop*theta - b[i])))\n",
    "            ratio = ratio - ((-0.5 / sigmasq_a) * (a[i]**2) + torch.sum(a[i]*torch.mul(Y[:,i], theta) - torch.log(1+torch.exp(a[i]*theta - b[i]))))\n",
    "            \n",
    "            #print(log_A)\n",
    "            A = torch.min(torch.tensor([1.0]), torch.exp(ratio))\n",
    "            #print(A)\n",
    "            U = torch.distributions.Uniform(torch.tensor([0.0]), torch.tensor([1.0])).sample()\n",
    "            #print(U)\n",
    "            \n",
    "            if torch.le(U, A)[0]: # U[0] <= A[0]\n",
    "                a[i] = a_prop\n",
    "        \n",
    "        for i in range(I):\n",
    "            b_prop = b[i] + (torch.distributions.Normal(torch.tensor([0.0]), sigmasq_a)).sample()\n",
    "\n",
    "            # Bad values\n",
    "            if b_prop < 0 or b_prop > 1:\n",
    "                continue\n",
    "\n",
    "            ratio = (-0.5 / sigmasq_b) * b_prop**2 + torch.sum(-1.0*Y[:,i]*b_prop - torch.log(1+torch.exp(a[i]*theta - b_prop)))\n",
    "            ratio = ratio - ((-0.5 / sigmasq_b) * b[i]**2 + torch.sum(-1.0*Y[:,i]*b[i] - torch.log(1+torch.exp(a[i]*theta - b[i]))))\n",
    "            \n",
    "            A = torch.min(torch.tensor([1.0]), torch.exp(ratio))\n",
    "            U = torch.distributions.Uniform(torch.tensor([0.0]), torch.tensor([1.0])).sample()\n",
    "            \n",
    "            if torch.le(U, A)[0]:\n",
    "                b[i] = b_prop\n",
    "                \n",
    "        for p in range(P):\n",
    "            theta_prop = theta[p] + (torch.distributions.Normal(torch.tensor([0.0]), sigmasq_t)).sample()\n",
    "\n",
    "            # Bad values\n",
    "            if theta_prop < 0 or theta_prop > 1:\n",
    "                continue\n",
    "\n",
    "            ratio = (-0.5/sigmasq_t) * theta_prop**2 + torch.sum(torch.mul(Y[p], a)*theta_prop - torch.log(1+torch.exp(theta_prop*a - b)))\n",
    "            ratio = ratio - ((-0.5/sigmasq_t) * theta[p]**2 + torch.sum(torch.mul(Y[p], a)*theta[p] - torch.log(1+torch.exp(theta[p]*a - b))))\n",
    "            \n",
    "            A = torch.min(torch.tensor([1.0]), torch.exp(ratio))\n",
    "            U = torch.distributions.Uniform(torch.tensor([0.0]), torch.tensor([1.0])).sample()\n",
    "            \n",
    "            if torch.le(U, A)[0]:\n",
    "                theta[p] = theta_prop\n",
    "                \n",
    "    return a, b, theta"
   ]
  },
  {
   "cell_type": "code",
   "execution_count": 10,
   "id": "290adae2",
   "metadata": {},
   "outputs": [
    {
     "name": "stderr",
     "output_type": "stream",
     "text": [
      "100%|██████████| 10000/10000 [00:39<00:00, 254.74it/s]\n"
     ]
    }
   ],
   "source": [
    "samples = redo(init_a, init_b, init_t, Y, sigmasq_a, sigmasq_b, sigmasq_t, niter=10000)"
   ]
  },
  {
   "cell_type": "code",
   "execution_count": 11,
   "id": "9c5db2f0",
   "metadata": {},
   "outputs": [
    {
     "name": "stdout",
     "output_type": "stream",
     "text": [
      "tensor([0.2088, 0.5002, 0.4445, 0.4174, 0.1353, 0.4227, 0.5942, 0.9501, 0.5706,\n",
      "        0.7947])\n",
      "tensor([1.0000, 0.9000, 0.0100, 0.5000, 0.7000, 0.4000, 0.0300, 0.9000, 0.8000,\n",
      "        1.0000])\n",
      "\n",
      "tensor([0.2321, 0.3277, 0.9269, 0.9883, 0.3574, 0.2389, 0.7474, 0.0125, 0.4689,\n",
      "        0.1701])\n",
      "tensor([0.0100, 0.9000, 1.0000, 0.8000, 0.2000, 0.3000, 0.8800, 1.0000, 0.3000,\n",
      "        0.5000])\n",
      "\n",
      "tensor([0.0102, 0.3316, 0.4744, 0.4127, 0.8796, 0.5849, 0.0211, 0.8935, 0.4349,\n",
      "        0.2331])\n",
      "tensor([1.0000, 1.0000, 0.0000, 0.5000, 0.7000, 0.1000, 0.3000, 0.9000, 0.6000,\n",
      "        0.7000])\n"
     ]
    }
   ],
   "source": [
    "print(samples[0])\n",
    "print(true_a)\n",
    "\n",
    "print()\n",
    "print(samples[1])\n",
    "print(true_b)\n",
    "\n",
    "print()\n",
    "print(samples[2])\n",
    "print(true_theta)"
   ]
  },
  {
   "cell_type": "markdown",
   "id": "77104eab",
   "metadata": {},
   "source": [
    "### Test"
   ]
  },
  {
   "cell_type": "code",
   "execution_count": 5,
   "id": "95779801",
   "metadata": {
    "scrolled": true
   },
   "outputs": [
    {
     "name": "stdout",
     "output_type": "stream",
     "text": [
      "tensor([[0., 0., 0.,  ..., 1., 0., 0.],\n",
      "        [0., 1., 0.,  ..., 0., 1., 0.],\n",
      "        [0., 0., 1.,  ..., 1., 1., 1.],\n",
      "        ...,\n",
      "        [1., 1., 0.,  ..., 1., 1., 1.],\n",
      "        [1., 0., 0.,  ..., 1., 1., 1.],\n",
      "        [1., 1., 1.,  ..., 1., 1., 0.]])\n"
     ]
    }
   ],
   "source": [
    "# TEST\n",
    "N = 5000  # iterations\n",
    "I = 100   # exam items\n",
    "P = 1000  # pupils\n",
    "sigmasq_a, sigmasq_b, sigmasq_t = torch.tensor([1.0]), torch.tensor([1.0]), torch.tensor([1.0])  # priors\n",
    "\n",
    "init_a = torch.zeros(I)  \n",
    "init_b = torch.zeros(I)  \n",
    "init_t = torch.zeros(P)  \n",
    "\n",
    "true_a = torch.empty(size=(I,)) #torch.tensor([1, 0.9, 0.01, 0.5, 0.7, 0.4, 0.03, 0.9, 0.8, 1])  # items' discriminatory power\n",
    "true_b = torch.empty(size=(I,)) #torch.tensor([0.01, 0.9, 1, 0.8, 0.2, 0.3, 0.88, 1, 0.3, 0.5])  # items' difficulty\n",
    "true_theta = torch.empty(size=(P,)) #torch.tensor([1, 1, 0, 0.5, 0.7, 0.1, 0.3, 0.9, 0.6, 0.7])  # students' skills\n",
    "\n",
    "# populate a, b:\n",
    "for i in range(I):\n",
    "    U = torch.distributions.Uniform(torch.tensor([0.0]), torch.tensor([1.0]))\n",
    "    true_a[i] = U.sample()\n",
    "    true_b[i] = U.sample()\n",
    "    \n",
    "# populate theta:\n",
    "for p in range(P):\n",
    "    U = torch.distributions.Uniform(torch.tensor([0.0]), torch.tensor([1.0]))\n",
    "    true_theta[p] = U.sample()\n",
    "\n",
    "# generate exam data:\n",
    "Y = torch.empty(size=(P, I))\n",
    "\n",
    "for i in range(I):\n",
    "    #print(i)\n",
    "    for p in range(P):\n",
    "        #print(p)\n",
    "        prob = torch.exp(true_a[i]*true_theta[p] - true_b[i]) / (1 + torch.exp(true_a[i]*true_theta[p] - true_b[i]))\n",
    "        B = torch.distributions.Bernoulli(prob)\n",
    "        Y[p][i] = B.sample()\n",
    "\n",
    "print(Y)"
   ]
  },
  {
   "cell_type": "code",
   "execution_count": 9,
   "id": "254b59f1",
   "metadata": {
    "scrolled": true
   },
   "outputs": [
    {
     "name": "stdout",
     "output_type": "stream",
     "text": [
      "Starting Gibbs sampler... \n",
      "--------------------------------------------\n",
      "\n"
     ]
    },
    {
     "name": "stderr",
     "output_type": "stream",
     "text": [
      "  0%|          | 4/4999 [01:20<28:01:38, 20.20s/it]\n"
     ]
    },
    {
     "ename": "KeyboardInterrupt",
     "evalue": "",
     "output_type": "error",
     "traceback": [
      "\u001b[0;31m---------------------------------------------------------------------------\u001b[0m",
      "\u001b[0;31mKeyboardInterrupt\u001b[0m                         Traceback (most recent call last)",
      "Cell \u001b[0;32mIn[9], line 1\u001b[0m\n\u001b[0;32m----> 1\u001b[0m samples_ \u001b[38;5;241m=\u001b[39m gibbs(init_a, init_b, init_t, Y, sigmasq_a, sigmasq_b, sigmasq_t, niter\u001b[38;5;241m=\u001b[39mN)\n",
      "Cell \u001b[0;32mIn[4], line 53\u001b[0m, in \u001b[0;36mgibbs\u001b[0;34m(init_a, init_b, init_theta, y, sigmasq_a, sigmasq_b, sigmasq_t, niter)\u001b[0m\n\u001b[1;32m     50\u001b[0m \u001b[38;5;28;01mfor\u001b[39;00m s \u001b[38;5;129;01min\u001b[39;00m trange(\u001b[38;5;241m1\u001b[39m, niter):\n\u001b[1;32m     52\u001b[0m     \u001b[38;5;28;01mfor\u001b[39;00m i \u001b[38;5;129;01min\u001b[39;00m \u001b[38;5;28mrange\u001b[39m(I):\n\u001b[0;32m---> 53\u001b[0m         A[s][i] \u001b[38;5;241m=\u001b[39m metropolis(A[s\u001b[38;5;241m-\u001b[39m\u001b[38;5;241m1\u001b[39m][i], sigmasq_a, loga_conditional, B[s\u001b[38;5;241m-\u001b[39m\u001b[38;5;241m1\u001b[39m][i], THETA[s\u001b[38;5;241m-\u001b[39m\u001b[38;5;241m1\u001b[39m], y[:,i], sigmasq_a)\n\u001b[1;32m     54\u001b[0m         B[s][i] \u001b[38;5;241m=\u001b[39m metropolis(B[s\u001b[38;5;241m-\u001b[39m\u001b[38;5;241m1\u001b[39m][i], sigmasq_b, logb_conditional, A[s][i], THETA[s\u001b[38;5;241m-\u001b[39m\u001b[38;5;241m1\u001b[39m], y[:,i], sigmasq_b)\n\u001b[1;32m     56\u001b[0m     \u001b[38;5;28;01mfor\u001b[39;00m p \u001b[38;5;129;01min\u001b[39;00m \u001b[38;5;28mrange\u001b[39m(P):\n",
      "Cell \u001b[0;32mIn[3], line 29\u001b[0m, in \u001b[0;36mmetropolis\u001b[0;34m(prev_sample, sigmasq, full_cond, *full_cond_args)\u001b[0m\n\u001b[1;32m     21\u001b[0m prop \u001b[38;5;241m=\u001b[39m prev_sample \u001b[38;5;241m+\u001b[39m (torch\u001b[38;5;241m.\u001b[39mdistributions\u001b[38;5;241m.\u001b[39mNormal(torch\u001b[38;5;241m.\u001b[39mtensor([\u001b[38;5;241m0.0\u001b[39m]), sigmasq))\u001b[38;5;241m.\u001b[39msample()\n\u001b[1;32m     23\u001b[0m \u001b[38;5;66;03m# Ensure that values are within range [0,1]\u001b[39;00m\n\u001b[1;32m     24\u001b[0m \u001b[38;5;66;03m#if (prop > 1) or (prop < 0):\u001b[39;00m\n\u001b[1;32m     25\u001b[0m \u001b[38;5;66;03m#    A = 0\u001b[39;00m\n\u001b[1;32m     26\u001b[0m \u001b[38;5;66;03m#else:\u001b[39;00m\n\u001b[1;32m     27\u001b[0m \u001b[38;5;66;03m#    logr = full_cond(prop, *full_cond_args) - full_cond(prev_sample, *full_cond_args)    \u001b[39;00m\n\u001b[1;32m     28\u001b[0m \u001b[38;5;66;03m#    A = torch.min(torch.tensor([1.0]), torch.exp(logr)) \u001b[39;00m\n\u001b[0;32m---> 29\u001b[0m logr \u001b[38;5;241m=\u001b[39m full_cond(prop, \u001b[38;5;241m*\u001b[39mfull_cond_args) \u001b[38;5;241m-\u001b[39m full_cond(prev_sample, \u001b[38;5;241m*\u001b[39mfull_cond_args)    \n\u001b[1;32m     30\u001b[0m A \u001b[38;5;241m=\u001b[39m torch\u001b[38;5;241m.\u001b[39mmin(torch\u001b[38;5;241m.\u001b[39mtensor([\u001b[38;5;241m1.0\u001b[39m]), torch\u001b[38;5;241m.\u001b[39mexp(logr)) \n\u001b[1;32m     32\u001b[0m U \u001b[38;5;241m=\u001b[39m (torch\u001b[38;5;241m.\u001b[39mdistributions\u001b[38;5;241m.\u001b[39mUniform(torch\u001b[38;5;241m.\u001b[39mtensor([\u001b[38;5;241m0.0\u001b[39m]), torch\u001b[38;5;241m.\u001b[39mtensor([\u001b[38;5;241m1.0\u001b[39m])))\u001b[38;5;241m.\u001b[39msample()\n",
      "Cell \u001b[0;32mIn[2], line 29\u001b[0m, in \u001b[0;36mloga_conditional\u001b[0;34m(a, b, theta, y, sigmasq)\u001b[0m\n\u001b[1;32m     27\u001b[0m logsum \u001b[38;5;241m=\u001b[39m \u001b[38;5;241m0\u001b[39m\n\u001b[1;32m     28\u001b[0m \u001b[38;5;28;01mfor\u001b[39;00m p \u001b[38;5;129;01min\u001b[39;00m \u001b[38;5;28mrange\u001b[39m(y\u001b[38;5;241m.\u001b[39mshape[\u001b[38;5;241m0\u001b[39m]):\n\u001b[0;32m---> 29\u001b[0m     logsum \u001b[38;5;241m+\u001b[39m\u001b[38;5;241m=\u001b[39m a \u001b[38;5;241m*\u001b[39m y[p] \u001b[38;5;241m*\u001b[39m theta[p] \u001b[38;5;241m-\u001b[39m torch\u001b[38;5;241m.\u001b[39mlog(\u001b[38;5;241m1\u001b[39m \u001b[38;5;241m+\u001b[39m torch\u001b[38;5;241m.\u001b[39mexp(a\u001b[38;5;241m*\u001b[39mtheta[p]\u001b[38;5;241m-\u001b[39mb))\n\u001b[1;32m     31\u001b[0m prob \u001b[38;5;241m=\u001b[39m logsum \u001b[38;5;241m-\u001b[39m (torch\u001b[38;5;241m.\u001b[39mpow(a, \u001b[38;5;241m2\u001b[39m)\u001b[38;5;241m/\u001b[39m(\u001b[38;5;241m2\u001b[39m\u001b[38;5;241m*\u001b[39msigmasq))\n\u001b[1;32m     32\u001b[0m \u001b[38;5;28;01mreturn\u001b[39;00m prob\n",
      "\u001b[0;31mKeyboardInterrupt\u001b[0m: "
     ]
    }
   ],
   "source": [
    "samples_ = gibbs(init_a, init_b, init_t, Y, sigmasq_a, sigmasq_b, sigmasq_t, niter=N)"
   ]
  },
  {
   "cell_type": "code",
   "execution_count": null,
   "id": "0a2cfe31",
   "metadata": {
    "scrolled": true
   },
   "outputs": [],
   "source": [
    "print(\"A:\")\n",
    "print(torch.mean(samples_[0], 0))  # mean over the columns\n",
    "print(true_a)\n",
    "\n",
    "print(\"B:\")\n",
    "print(torch.mean(samples_[1], 0))  # mean over the columns\n",
    "print(true_b)\n",
    "\n",
    "print(\"THETA:\")\n",
    "print(torch.mean(samples_[2], 0))  # mean over the columns\n",
    "print(true_theta)"
   ]
  },
  {
   "cell_type": "code",
   "execution_count": null,
   "id": "3c57eab5-4b15-4ac4-9304-e57ce3e3f33f",
   "metadata": {},
   "outputs": [],
   "source": [
    "# Traceplots of samples\n",
    "fig, (ax1, ax2, ax3) = plt.subplots(nrows=3, figsize=(9,5), sharex=True)\n",
    "fig.suptitle('Traceplots for MCMC samples of a, b, theta')\n",
    "\n",
    "t = range(N)\n",
    "\n",
    "ax1.plot(t, samples_[0][:,0])\n",
    "ax1.axhline(true_a[0], color=\"red\")\n",
    "plt.tick_params('x', labelsize=6)\n",
    "ax1.set_title(\"a[0]\", fontsize='small', loc='left')\n",
    "\n",
    "ax2.plot(t, samples_[1][:,0])\n",
    "ax2.axhline(true_b[0], color=\"red\")\n",
    "ax2.set_title(\"b[0]\", fontsize='small', loc='left')\n",
    "\n",
    "plt.plot(t, samples_[2][:,0])\n",
    "ax3.axhline(true_theta[0], color=\"red\")\n",
    "ax3.set_title(\"theta[0]\", fontsize='small', loc='left')\n",
    "\n",
    "fig.supxlabel('iterations')\n",
    "fig.tight_layout()\n",
    "plt.show()"
   ]
  },
  {
   "cell_type": "code",
   "execution_count": null,
   "id": "d31907b1-8341-4535-9efe-7155177f14d1",
   "metadata": {},
   "outputs": [],
   "source": [
    "# TODO: Histogram of samples\n"
   ]
  },
  {
   "cell_type": "markdown",
   "id": "2153ebe9-8697-453a-bd5a-2cee39ad66ed",
   "metadata": {},
   "source": [
    "## Implementation: Adaptive Metropolis-within-Gibbs"
   ]
  },
  {
   "cell_type": "code",
   "execution_count": 10,
   "id": "30314750-7e95-4123-a5ef-102d2cc378f3",
   "metadata": {},
   "outputs": [],
   "source": [
    "def ada_metropolis(prev_sample, sigmasq, scale, s, full_cond, *full_cond_args, rho=0.8, tau=0.3):\n",
    "\n",
    "    prop = prev_sample + (torch.exp(scale)*torch.distributions.Normal(torch.tensor([0.0]), sigmasq).sample())\n",
    "    \n",
    "    # Ensure that sampled values are within [0,1]\n",
    "    #if (prop > 1) or (prop < 0):\n",
    "    #    A = 0\n",
    "    #else:\n",
    "    #    logr = full_cond(prop, *full_cond_args) - full_cond(prev_sample, *full_cond_args)    \n",
    "    #    A = torch.min(torch.tensor([1.0]), torch.exp(logr)) \n",
    "    \n",
    "    logr = full_cond(prop, *full_cond_args) - full_cond(prev_sample, *full_cond_args)    \n",
    "    A = torch.min(torch.tensor([1.0]), torch.exp(logr)) \n",
    "    U = (torch.distributions.Uniform(torch.tensor([0.0]), torch.tensor([1.0]))).sample()\n",
    "\n",
    "    update = None\n",
    "    \n",
    "    if U <= A:\n",
    "        update = prop\n",
    "    else:\n",
    "        update = prev_sample\n",
    "\n",
    "    scale += (1/s**rho)*(A-tau)\n",
    "    # TODO: calculate avg acceptance probability\n",
    "    return update, scale\n",
    "\n",
    "def gibbs(init_a, init_b, init_theta, y, sigmasq_a, sigmasq_b, sigmasq_t, niter=10000, adapt=False):\n",
    "    \"\"\"Function to perform Gibbs sampling, using Metropolis-within-Gibbs for the intractable full conditional distributions.\n",
    "\n",
    "    Parameters\n",
    "    ----------\n",
    "    init_a : torch.Tensor\n",
    "        The initial state of variable a\n",
    "    init_b : torch.Tensor\n",
    "        The initial state of variable b\n",
    "    init_theta : torch.Tensor\n",
    "        The initial state of variable theta\n",
    "    y : torch.Tensor\n",
    "        The data\n",
    "    sigmasq_a : torch.Tensor\n",
    "        The prior for the variance of variable a\n",
    "    sigmasq_b : torch.Tensor\n",
    "        The prior for the variance of variable b\n",
    "    sigmasq_t : torch.Tensor\n",
    "        The prior for the variance of variable theta\n",
    "    niter : int\n",
    "        The number of samples to collect\n",
    "\n",
    "    Returns\n",
    "    -------\n",
    "    A : torch.Tensor\n",
    "        The samples for each element of variable a\n",
    "    B : torch.Tensor\n",
    "        The samples for each element of variable b\n",
    "    THETA : torch.Tensor\n",
    "        The samples for each element of variable theta\n",
    "    \"\"\"\n",
    "    \n",
    "    assert init_a.shape == init_b.shape\n",
    "    assert init_theta.shape[0] == y.shape[0]\n",
    "    \n",
    "    I = len(init_a)\n",
    "    P = len(init_theta)\n",
    "    \n",
    "    # samples\n",
    "    A = torch.empty(size=(niter, I))\n",
    "    B = torch.empty(size=(niter, I))\n",
    "    THETA = torch.empty(size=(niter, P))\n",
    "    \n",
    "    A[0] = init_a\n",
    "    B[0] = init_b\n",
    "    THETA[0] = init_theta\n",
    "\n",
    "    if adapt:\n",
    "        scale_a, scale_b, scale_t = torch.Tensor([-2.0]), torch.Tensor([-2.0]), torch.Tensor([-2.0])\n",
    "        print(f\"Starting Gibbs sampler with adaptation... \\n--------------------------------------------\\n\")\n",
    "    else:\n",
    "        print(f\"Starting Gibbs sampler... \\n--------------------------------------------\\n\")\n",
    "        \n",
    "    for s in trange(niter):\n",
    "        \n",
    "        for i in range(I):\n",
    "\n",
    "            if not adapt:\n",
    "                A[s][i] = metropolis(A[s-1][i], sigmasq_a, loga_conditional, B[s-1][i], THETA[s-1], y[:,i], sigmasq_a)\n",
    "                B[s][i] = metropolis(B[s-1][i], sigmasq_b, logb_conditional, A[s][i], THETA[s-1], y[:,i], sigmasq_b)\n",
    "            else:\n",
    "                k = s+1\n",
    "                A[s][i], scale_a = ada_metropolis(A[s-1][i], sigmasq_a, scale_a, k, loga_conditional, B[s-1][i], THETA[s-1], y[:,i], sigmasq_a)\n",
    "                B[s][i], scale_b = ada_metropolis(B[s-1][i], sigmasq_b, scale_b, k, logb_conditional, A[s][i], THETA[s-1], y[:,i], sigmasq_b)\n",
    "            \n",
    "        for p in range(P):\n",
    "            if not adapt:\n",
    "                THETA[s][p] = metropolis(THETA[s-1][p], sigmasq_t, logtheta_conditional, A[s], B[s], y[p,:], sigmasq_t)\n",
    "            else:\n",
    "                k = s+1\n",
    "                THETA[s][p], scale_t = ada_metropolis(THETA[s-1][p], sigmasq_t, scale_t, k, logtheta_conditional, A[s], B[s], y[p,:], sigmasq_t)\n",
    "                #print(scale_t)\n",
    "                \n",
    "    print(\"Done sampling.\")\n",
    "    return A, B, THETA"
   ]
  },
  {
   "cell_type": "code",
   "execution_count": 11,
   "id": "721f3fac-1268-4401-bb33-d63ca47fe9ca",
   "metadata": {},
   "outputs": [
    {
     "name": "stdout",
     "output_type": "stream",
     "text": [
      "Starting Gibbs sampler with adaptation... \n",
      "--------------------------------------------\n",
      "\n"
     ]
    },
    {
     "name": "stderr",
     "output_type": "stream",
     "text": [
      "100%|██████████| 10000/10000 [28:47<00:00,  5.79it/s]"
     ]
    },
    {
     "name": "stdout",
     "output_type": "stream",
     "text": [
      "Done sampling.\n"
     ]
    },
    {
     "name": "stderr",
     "output_type": "stream",
     "text": [
      "\n"
     ]
    }
   ],
   "source": [
    "samples_ada = gibbs(init_a, init_b, init_t, Y, sigmasq_a, sigmasq_b, sigmasq_t, niter=N, adapt=True)\n",
    "# TODO: test with I=100, P=1000, niter=5000"
   ]
  },
  {
   "cell_type": "code",
   "execution_count": 12,
   "id": "fcacc5fb-5103-464d-aa1b-bd458943cb4f",
   "metadata": {},
   "outputs": [
    {
     "data": {
      "image/png": "[encoded data removed]",
      "text/plain": [
       "<Figure size 900x500 with 3 Axes>"
      ]
     },
     "metadata": {},
     "output_type": "display_data"
    }
   ],
   "source": [
    "fig, (ax1, ax2, ax3) = plt.subplots(nrows=3, figsize=(9,5), sharex=True)\n",
    "fig.suptitle('Traceplots for adaptive MCMC samples of a, b, theta')\n",
    "\n",
    "t = range(N)\n",
    "\n",
    "ax1.plot(t, samples_ada[0][:,0])\n",
    "ax1.axhline(true_a[0], color=\"red\")\n",
    "plt.tick_params('x', labelsize=6)\n",
    "ax1.set_title(\"a[0]\", fontsize='small', loc='left')\n",
    "\n",
    "ax2.plot(t, samples_ada[1][:,0])\n",
    "ax2.axhline(true_b[0], color=\"red\")\n",
    "ax2.set_title(\"b[0]\", fontsize='small', loc='left')\n",
    "\n",
    "plt.plot(t, samples_ada[2][:,0])\n",
    "ax3.axhline(true_theta[0], color=\"red\")\n",
    "ax3.set_title(\"theta[0]\", fontsize='small', loc='left')\n",
    "\n",
    "fig.supxlabel('iterations')\n",
    "fig.tight_layout()\n",
    "plt.show()"
   ]
  }
 ],
 "metadata": {
  "kernelspec": {
   "display_name": "Python 3 (ipykernel)",
   "language": "python",
   "name": "python3"
  },
  "language_info": {
   "codemirror_mode": {
    "name": "ipython",
    "version": 3
   },
   "file_extension": ".py",
   "mimetype": "text/x-python",
   "name": "python",
   "nbconvert_exporter": "python",
   "pygments_lexer": "ipython3",
   "version": "3.11.9"
  }
 },
 "nbformat": 4,
 "nbformat_minor": 5
}
