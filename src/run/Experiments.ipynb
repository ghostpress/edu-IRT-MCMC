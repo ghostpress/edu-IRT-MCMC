{
 "cells": [
  {
   "cell_type": "code",
   "execution_count": 7,
   "id": "482bee61-e533-46ba-aa8b-bfa8ccf96607",
   "metadata": {},
   "outputs": [
    {
     "data": {
      "text/plain": [
       "<torch._C.Generator at 0x1527f85f9df0>"
      ]
     },
     "execution_count": 7,
     "metadata": {},
     "output_type": "execute_result"
    }
   ],
   "source": [
    "# Imports\n",
    "import os\n",
    "os.chdir(\"/projectnb/labci/Lucia/edu-bayesian-MCMC/\")\n",
    "\n",
    "import torch\n",
    "import matplotlib.pyplot as plt\n",
    "import pymc as pm\n",
    "from pymc import PolyaGamma as PG\n",
    "\n",
    "from src.samplers.MetropolisGibbs import gibbs\n",
    "from src.samplers.PolyaGamma import polyagamma\n",
    "\n",
    "torch.manual_seed(42)"
   ]
  },
  {
   "cell_type": "code",
   "execution_count": 8,
   "id": "0d7fa6ab-4d60-4310-b163-cde69a56e89b",
   "metadata": {},
   "outputs": [],
   "source": [
    "# Simulate data\n",
    "I = 100   # exam items\n",
    "P = 1000  # pupils\n",
    "\n",
    "init_a = torch.zeros(I)  \n",
    "init_b = torch.zeros(I)  \n",
    "init_t = torch.zeros(P)  \n",
    "init_W = torch.zeros(P, I)\n",
    "\n",
    "\n",
    "true_a = torch.empty(size=(I,))      # items' discriminatory power\n",
    "true_b = torch.empty(size=(I,))      # items' difficulty\n",
    "true_theta = torch.empty(size=(P,))  # students' skills\n",
    "true_W = torch.empty(size=(P,I))     # latent variable (for PG case)\n",
    "Y = torch.empty(size=(P, I))         # simulated data\n",
    "\n",
    "# populate a, b:\n",
    "for i in range(I):\n",
    "    U = torch.distributions.Uniform(torch.tensor([0.0]), torch.tensor([1.0]))\n",
    "    true_a[i] = U.sample()\n",
    "    true_b[i] = -1.0*U.sample()\n",
    "    \n",
    "# populate theta:\n",
    "for p in range(P):\n",
    "    U = torch.distributions.Uniform(torch.tensor([0.0]), torch.tensor([1.0]))\n",
    "    true_theta[p] = U.sample()\n",
    "\n",
    "# populate W:\n",
    "scales = torch.mul(torch.t(true_a[:, None]), true_theta[:, None]) + true_b\n",
    "true_W = torch.from_numpy(pm.draw(PG.dist(h=1, z=scales)))\n",
    "\n",
    "# generate exam data:\n",
    "for i in range(I):\n",
    "    for p in range(P):\n",
    "        prob = torch.exp(true_a[i]*true_theta[p] + true_b[i]) / (1 + torch.exp(true_a[i]*true_theta[p] + true_b[i]))\n",
    "        B = torch.distributions.Bernoulli(prob)\n",
    "        Y[p][i] = B.sample()"
   ]
  },
  {
   "cell_type": "code",
   "execution_count": null,
   "id": "b63a1c29-c84d-4c74-ada3-f82429e7f6dd",
   "metadata": {},
   "outputs": [
    {
     "name": "stdout",
     "output_type": "stream",
     "text": [
      "Starting Gibbs sampler... \n",
      "--------------------------------------------\n",
      "\n"
     ]
    },
    {
     "name": "stderr",
     "output_type": "stream",
     "text": [
      "  1%|          | 8/999 [01:55<4:01:12, 14.60s/it]"
     ]
    }
   ],
   "source": [
    "# Run samplers\n",
    "N = 1000\n",
    "sigmasq_a, sigmasq_b, sigmasq_t = torch.tensor([1.0]), torch.tensor([1.0]), torch.tensor([1.0])  # priors\n",
    "\n",
    "samples_mwg = gibbs(init_a, init_b, init_t, Y, sigmasq_a, sigmasq_b, sigmasq_t, niter=N, adapt=False)\n",
    "samples_ada_mwg = gibbs(init_a, init_b, init_t, Y, sigmasq_a, sigmasq_b, sigmasq_t, niter=N, adapt=True)\n",
    "samples_pg = polyagamma(init_a, init_b, init_t, init_W, Y, sigmasq_a, sigmasq_b, sigmasq_t, niter=N)"
   ]
  }
 ],
 "metadata": {
  "kernelspec": {
   "display_name": "Python 3 (ipykernel)",
   "language": "python",
   "name": "python3"
  },
  "language_info": {
   "codemirror_mode": {
    "name": "ipython",
    "version": 3
   },
   "file_extension": ".py",
   "mimetype": "text/x-python",
   "name": "python",
   "nbconvert_exporter": "python",
   "pygments_lexer": "ipython3",
   "version": "3.11.9"
  }
 },
 "nbformat": 4,
 "nbformat_minor": 5
}
